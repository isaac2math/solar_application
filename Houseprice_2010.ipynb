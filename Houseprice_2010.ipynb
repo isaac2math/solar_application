{
 "cells": [
  {
   "cell_type": "code",
   "execution_count": 1,
   "metadata": {},
   "outputs": [],
   "source": [
    "%reset -f"
   ]
  },
  {
   "cell_type": "markdown",
   "metadata": {},
   "source": [
    "# import packages"
   ]
  },
  {
   "cell_type": "code",
   "execution_count": 2,
   "metadata": {},
   "outputs": [],
   "source": [
    "import numpy             as np\n",
    "import statsmodels.api   as sm\n",
    "import pandas            as pd\n",
    "\n",
    "from sklearn.linear_model import LassoLarsCV, LassoCV, ElasticNetCV\n",
    "from solar                import solar"
   ]
  },
  {
   "cell_type": "markdown",
   "metadata": {},
   "source": [
    "# load house price data"
   ]
  },
  {
   "cell_type": "code",
   "execution_count": 3,
   "metadata": {},
   "outputs": [],
   "source": [
    "result  = pd.read_csv(\"Data2010.csv\")"
   ]
  },
  {
   "cell_type": "code",
   "execution_count": 4,
   "metadata": {},
   "outputs": [
    {
     "data": {
      "text/plain": [
       "Index(['Unnamed: 0', 'TotPop', 'Eng-speak', 'Aus', 'AgeSA1', 'Mortgage', 'Inc',\n",
       "       'Rent', 'FamInc', 'psn-per-bedroom', 'household_size', 'TVO2010',\n",
       "       'TPO2010', 'TVO2009', 'TPO2009', 'Suburb_Area', 'AreaSize', 'Bedrooms',\n",
       "       'Baths', 'Parking', 'Airport', 'Beach', 'Cemetery', 'ChildCare',\n",
       "       'CommunityFacility', 'Club', 'Gaol', 'GeneralHospital', 'GolfCourt',\n",
       "       'High', 'Lib', 'MedCenter', 'Museum', 'Park', 'PO', 'Police',\n",
       "       'PreSchool', 'PrimaryHigh', 'Primary', 'RailStat', 'Rubbish', 'Sewage',\n",
       "       'SportsCenter', 'SportsCourtField', 'Swimming', 'Tertiary', 'DistBound',\n",
       "       'ICSEA', 'ReadingY3', 'WritingY3', 'SpellingY3', 'GrammarY3',\n",
       "       'NumeracyY3', 'ReadingY5', 'WritingY5', 'SpellingY5', 'GrammarY5',\n",
       "       'NumeracyY5', 'Price'],\n",
       "      dtype='object')"
      ]
     },
     "execution_count": 4,
     "metadata": {},
     "output_type": "execute_result"
    }
   ],
   "source": [
    "result.columns"
   ]
  },
  {
   "cell_type": "code",
   "execution_count": 5,
   "metadata": {},
   "outputs": [],
   "source": [
    "X_table = result[['TotPop', 'Eng-speak', 'Aus', 'AgeSA1', 'Mortgage', 'Inc',\n",
    "       'Rent', 'FamInc', 'psn-per-bedroom', 'household_size', 'TVO2010',\n",
    "       'TPO2010', 'TVO2009', 'TPO2009', 'Suburb_Area', 'AreaSize', 'Bedrooms',\n",
    "       'Baths', 'Parking', 'Airport', 'Beach', 'Cemetery', 'ChildCare',\n",
    "       'CommunityFacility', 'Club', 'Gaol', 'GeneralHospital', 'GolfCourt',\n",
    "       'High', 'Lib', 'MedCenter', 'Museum', 'Park', 'PO', 'Police',\n",
    "       'PreSchool', 'PrimaryHigh', 'Primary', 'RailStat', 'Rubbish', 'Sewage',\n",
    "       'SportsCenter', 'SportsCourtField', 'Swimming', 'Tertiary', 'DistBound',\n",
    "       'ICSEA', 'ReadingY3', 'WritingY3', 'SpellingY3', 'GrammarY3',\n",
    "       'NumeracyY3', 'ReadingY5', 'WritingY5', 'SpellingY5', 'GrammarY5',\n",
    "       'NumeracyY5']]\n",
    "Y_table = result[['Price']]"
   ]
  },
  {
   "cell_type": "code",
   "execution_count": 6,
   "metadata": {},
   "outputs": [
    {
     "data": {
      "text/html": [
       "<div>\n",
       "<style scoped>\n",
       "    .dataframe tbody tr th:only-of-type {\n",
       "        vertical-align: middle;\n",
       "    }\n",
       "\n",
       "    .dataframe tbody tr th {\n",
       "        vertical-align: top;\n",
       "    }\n",
       "\n",
       "    .dataframe thead th {\n",
       "        text-align: right;\n",
       "    }\n",
       "</style>\n",
       "<table border=\"1\" class=\"dataframe\">\n",
       "  <thead>\n",
       "    <tr style=\"text-align: right;\">\n",
       "      <th></th>\n",
       "      <th>TotPop</th>\n",
       "      <th>Eng-speak</th>\n",
       "      <th>Aus</th>\n",
       "      <th>AgeSA1</th>\n",
       "      <th>Mortgage</th>\n",
       "      <th>Inc</th>\n",
       "      <th>Rent</th>\n",
       "      <th>FamInc</th>\n",
       "      <th>psn-per-bedroom</th>\n",
       "      <th>household_size</th>\n",
       "      <th>...</th>\n",
       "      <th>ReadingY3</th>\n",
       "      <th>WritingY3</th>\n",
       "      <th>SpellingY3</th>\n",
       "      <th>GrammarY3</th>\n",
       "      <th>NumeracyY3</th>\n",
       "      <th>ReadingY5</th>\n",
       "      <th>WritingY5</th>\n",
       "      <th>SpellingY5</th>\n",
       "      <th>GrammarY5</th>\n",
       "      <th>NumeracyY5</th>\n",
       "    </tr>\n",
       "  </thead>\n",
       "  <tbody>\n",
       "    <tr>\n",
       "      <th>0</th>\n",
       "      <td>351</td>\n",
       "      <td>196</td>\n",
       "      <td>315</td>\n",
       "      <td>47</td>\n",
       "      <td>2700</td>\n",
       "      <td>493</td>\n",
       "      <td>650</td>\n",
       "      <td>1424</td>\n",
       "      <td>1.1</td>\n",
       "      <td>2.9</td>\n",
       "      <td>...</td>\n",
       "      <td>406</td>\n",
       "      <td>410</td>\n",
       "      <td>428</td>\n",
       "      <td>416</td>\n",
       "      <td>382</td>\n",
       "      <td>477</td>\n",
       "      <td>477</td>\n",
       "      <td>499</td>\n",
       "      <td>483</td>\n",
       "      <td>485</td>\n",
       "    </tr>\n",
       "    <tr>\n",
       "      <th>1</th>\n",
       "      <td>627</td>\n",
       "      <td>482</td>\n",
       "      <td>417</td>\n",
       "      <td>34</td>\n",
       "      <td>4000</td>\n",
       "      <td>1311</td>\n",
       "      <td>561</td>\n",
       "      <td>2874</td>\n",
       "      <td>1.2</td>\n",
       "      <td>2.0</td>\n",
       "      <td>...</td>\n",
       "      <td>468</td>\n",
       "      <td>449</td>\n",
       "      <td>442</td>\n",
       "      <td>480</td>\n",
       "      <td>423</td>\n",
       "      <td>560</td>\n",
       "      <td>524</td>\n",
       "      <td>530</td>\n",
       "      <td>553</td>\n",
       "      <td>555</td>\n",
       "    </tr>\n",
       "    <tr>\n",
       "      <th>2</th>\n",
       "      <td>406</td>\n",
       "      <td>236</td>\n",
       "      <td>365</td>\n",
       "      <td>37</td>\n",
       "      <td>3100</td>\n",
       "      <td>851</td>\n",
       "      <td>418</td>\n",
       "      <td>1978</td>\n",
       "      <td>1.1</td>\n",
       "      <td>2.4</td>\n",
       "      <td>...</td>\n",
       "      <td>386</td>\n",
       "      <td>402</td>\n",
       "      <td>423</td>\n",
       "      <td>404</td>\n",
       "      <td>385</td>\n",
       "      <td>496</td>\n",
       "      <td>471</td>\n",
       "      <td>489</td>\n",
       "      <td>496</td>\n",
       "      <td>504</td>\n",
       "    </tr>\n",
       "    <tr>\n",
       "      <th>3</th>\n",
       "      <td>496</td>\n",
       "      <td>226</td>\n",
       "      <td>437</td>\n",
       "      <td>37</td>\n",
       "      <td>2600</td>\n",
       "      <td>571</td>\n",
       "      <td>420</td>\n",
       "      <td>1490</td>\n",
       "      <td>1.2</td>\n",
       "      <td>3.3</td>\n",
       "      <td>...</td>\n",
       "      <td>394</td>\n",
       "      <td>402</td>\n",
       "      <td>432</td>\n",
       "      <td>400</td>\n",
       "      <td>398</td>\n",
       "      <td>495</td>\n",
       "      <td>504</td>\n",
       "      <td>517</td>\n",
       "      <td>502</td>\n",
       "      <td>524</td>\n",
       "    </tr>\n",
       "    <tr>\n",
       "      <th>4</th>\n",
       "      <td>351</td>\n",
       "      <td>196</td>\n",
       "      <td>315</td>\n",
       "      <td>47</td>\n",
       "      <td>2700</td>\n",
       "      <td>493</td>\n",
       "      <td>650</td>\n",
       "      <td>1424</td>\n",
       "      <td>1.1</td>\n",
       "      <td>2.9</td>\n",
       "      <td>...</td>\n",
       "      <td>406</td>\n",
       "      <td>410</td>\n",
       "      <td>428</td>\n",
       "      <td>416</td>\n",
       "      <td>382</td>\n",
       "      <td>477</td>\n",
       "      <td>477</td>\n",
       "      <td>499</td>\n",
       "      <td>483</td>\n",
       "      <td>485</td>\n",
       "    </tr>\n",
       "  </tbody>\n",
       "</table>\n",
       "<p>5 rows × 57 columns</p>\n",
       "</div>"
      ],
      "text/plain": [
       "   TotPop  Eng-speak  Aus  AgeSA1  Mortgage   Inc  Rent  FamInc  \\\n",
       "0     351        196  315      47      2700   493   650    1424   \n",
       "1     627        482  417      34      4000  1311   561    2874   \n",
       "2     406        236  365      37      3100   851   418    1978   \n",
       "3     496        226  437      37      2600   571   420    1490   \n",
       "4     351        196  315      47      2700   493   650    1424   \n",
       "\n",
       "   psn-per-bedroom  household_size  ...  ReadingY3  WritingY3  SpellingY3  \\\n",
       "0              1.1             2.9  ...        406        410         428   \n",
       "1              1.2             2.0  ...        468        449         442   \n",
       "2              1.1             2.4  ...        386        402         423   \n",
       "3              1.2             3.3  ...        394        402         432   \n",
       "4              1.1             2.9  ...        406        410         428   \n",
       "\n",
       "   GrammarY3  NumeracyY3  ReadingY5  WritingY5  SpellingY5  GrammarY5  \\\n",
       "0        416         382        477        477         499        483   \n",
       "1        480         423        560        524         530        553   \n",
       "2        404         385        496        471         489        496   \n",
       "3        400         398        495        504         517        502   \n",
       "4        416         382        477        477         499        483   \n",
       "\n",
       "   NumeracyY5  \n",
       "0         485  \n",
       "1         555  \n",
       "2         504  \n",
       "3         524  \n",
       "4         485  \n",
       "\n",
       "[5 rows x 57 columns]"
      ]
     },
     "execution_count": 6,
     "metadata": {},
     "output_type": "execute_result"
    }
   ],
   "source": [
    "X_table.head()"
   ]
  },
  {
   "cell_type": "code",
   "execution_count": 7,
   "metadata": {},
   "outputs": [
    {
     "data": {
      "text/plain": [
       "Index(['TotPop', 'Eng-speak', 'Aus', 'AgeSA1', 'Mortgage', 'Inc', 'Rent',\n",
       "       'FamInc', 'psn-per-bedroom', 'household_size', 'TVO2010', 'TPO2010',\n",
       "       'TVO2009', 'TPO2009', 'Suburb_Area', 'AreaSize', 'Bedrooms', 'Baths',\n",
       "       'Parking', 'Airport', 'Beach', 'Cemetery', 'ChildCare',\n",
       "       'CommunityFacility', 'Club', 'Gaol', 'GeneralHospital', 'GolfCourt',\n",
       "       'High', 'Lib', 'MedCenter', 'Museum', 'Park', 'PO', 'Police',\n",
       "       'PreSchool', 'PrimaryHigh', 'Primary', 'RailStat', 'Rubbish', 'Sewage',\n",
       "       'SportsCenter', 'SportsCourtField', 'Swimming', 'Tertiary', 'DistBound',\n",
       "       'ICSEA', 'ReadingY3', 'WritingY3', 'SpellingY3', 'GrammarY3',\n",
       "       'NumeracyY3', 'ReadingY5', 'WritingY5', 'SpellingY5', 'GrammarY5',\n",
       "       'NumeracyY5'],\n",
       "      dtype='object')"
      ]
     },
     "execution_count": 7,
     "metadata": {},
     "output_type": "execute_result"
    }
   ],
   "source": [
    "X_table.columns"
   ]
  },
  {
   "cell_type": "code",
   "execution_count": 8,
   "metadata": {},
   "outputs": [
    {
     "data": {
      "text/plain": [
       "Index(['Price'], dtype='object')"
      ]
     },
     "execution_count": 8,
     "metadata": {},
     "output_type": "execute_result"
    }
   ],
   "source": [
    "Y_table.columns"
   ]
  },
  {
   "cell_type": "markdown",
   "metadata": {},
   "source": [
    "# generate X and Y for variable selection"
   ]
  },
  {
   "cell_type": "code",
   "execution_count": 9,
   "metadata": {},
   "outputs": [],
   "source": [
    "X = np.array(X_table)\n",
    "Y = np.array(Y_table)"
   ]
  },
  {
   "cell_type": "code",
   "execution_count": 10,
   "metadata": {},
   "outputs": [
    {
     "data": {
      "text/plain": [
       "(11974, 57)"
      ]
     },
     "execution_count": 10,
     "metadata": {},
     "output_type": "execute_result"
    }
   ],
   "source": [
    "X.shape"
   ]
  },
  {
   "cell_type": "code",
   "execution_count": 11,
   "metadata": {},
   "outputs": [],
   "source": [
    "Y.shape = (11974,)"
   ]
  },
  {
   "cell_type": "code",
   "execution_count": 12,
   "metadata": {},
   "outputs": [
    {
     "data": {
      "text/plain": [
       "array([], shape=(0, 1), dtype=int64)"
      ]
     },
     "execution_count": 12,
     "metadata": {},
     "output_type": "execute_result"
    }
   ],
   "source": [
    "np.argwhere(np.isnan(Y))"
   ]
  },
  {
   "cell_type": "markdown",
   "metadata": {},
   "source": [
    "# CV coordinate descend (CV-cd) for lasso"
   ]
  },
  {
   "cell_type": "code",
   "execution_count": 13,
   "metadata": {},
   "outputs": [],
   "source": [
    "reg2 = LassoCV(cv=10, normalize = True, random_state=0)\n",
    "reg2.fit(X,Y)\n",
    "\n",
    "lassoCV_ceof = reg2.coef_\n",
    "lassoCV_ind  = np.nonzero(lassoCV_ceof)"
   ]
  },
  {
   "cell_type": "markdown",
   "metadata": {},
   "source": [
    "# CV lars for lasso (CV-lars-lasso)"
   ]
  },
  {
   "cell_type": "code",
   "execution_count": 14,
   "metadata": {},
   "outputs": [],
   "source": [
    "np.random.seed(0)\n",
    "\n",
    "reg1 = LassoLarsCV(cv=10)\n",
    "reg1.fit(X,Y)\n",
    "\n",
    "lasso_lars_ceof = reg1.coef_\n",
    "lasso_lars_ind  = np.nonzero(lasso_lars_ceof)"
   ]
  },
  {
   "cell_type": "markdown",
   "metadata": {},
   "source": [
    "#CV elastic net (CV-en)"
   ]
  },
  {
   "cell_type": "code",
   "execution_count": 15,
   "metadata": {},
   "outputs": [
    {
     "data": {
      "text/plain": [
       "ElasticNetCV(normalize=True, random_state=0)"
      ]
     },
     "execution_count": 15,
     "metadata": {},
     "output_type": "execute_result"
    }
   ],
   "source": [
    "regr = ElasticNetCV(normalize=True, random_state=0)\n",
    "regr.fit(X,Y)"
   ]
  },
  {
   "cell_type": "code",
   "execution_count": 16,
   "metadata": {},
   "outputs": [],
   "source": [
    "Y.shape = (11974,1)"
   ]
  },
  {
   "cell_type": "code",
   "execution_count": 17,
   "metadata": {},
   "outputs": [],
   "source": [
    "np.random.seed(0)\n",
    "\n",
    "trial2 = solar( X, Y, 10, -0.02, lasso = False)\n",
    "solar_coef, opt_c, test_error, Qc_list, _, _, _, _ = trial2.fit()\n",
    "\n",
    "solar_ind = np.nonzero(solar_coef)[0]"
   ]
  },
  {
   "cell_type": "code",
   "execution_count": 18,
   "metadata": {},
   "outputs": [
    {
     "data": {
      "text/plain": [
       "array([[ 0.00000000e+00],\n",
       "       [ 0.00000000e+00],\n",
       "       [ 0.00000000e+00],\n",
       "       [ 0.00000000e+00],\n",
       "       [ 1.85986580e+02],\n",
       "       [ 0.00000000e+00],\n",
       "       [ 3.70759482e+02],\n",
       "       [ 6.65681282e+01],\n",
       "       [ 0.00000000e+00],\n",
       "       [ 0.00000000e+00],\n",
       "       [ 0.00000000e+00],\n",
       "       [ 0.00000000e+00],\n",
       "       [ 0.00000000e+00],\n",
       "       [ 0.00000000e+00],\n",
       "       [ 0.00000000e+00],\n",
       "       [ 0.00000000e+00],\n",
       "       [ 1.69510520e+05],\n",
       "       [ 2.09626518e+05],\n",
       "       [ 9.76232291e+04],\n",
       "       [ 0.00000000e+00],\n",
       "       [-7.96281769e+05],\n",
       "       [ 0.00000000e+00],\n",
       "       [ 0.00000000e+00],\n",
       "       [ 0.00000000e+00],\n",
       "       [ 0.00000000e+00],\n",
       "       [-1.90936980e+06],\n",
       "       [ 0.00000000e+00],\n",
       "       [ 0.00000000e+00],\n",
       "       [ 0.00000000e+00],\n",
       "       [ 0.00000000e+00],\n",
       "       [ 0.00000000e+00],\n",
       "       [ 0.00000000e+00],\n",
       "       [ 0.00000000e+00],\n",
       "       [ 0.00000000e+00],\n",
       "       [ 0.00000000e+00],\n",
       "       [ 0.00000000e+00],\n",
       "       [ 0.00000000e+00],\n",
       "       [ 0.00000000e+00],\n",
       "       [ 0.00000000e+00],\n",
       "       [ 0.00000000e+00],\n",
       "       [ 0.00000000e+00],\n",
       "       [ 0.00000000e+00],\n",
       "       [ 0.00000000e+00],\n",
       "       [ 0.00000000e+00],\n",
       "       [ 0.00000000e+00],\n",
       "       [ 0.00000000e+00],\n",
       "       [ 1.75692176e+03],\n",
       "       [ 0.00000000e+00],\n",
       "       [ 0.00000000e+00],\n",
       "       [ 0.00000000e+00],\n",
       "       [ 0.00000000e+00],\n",
       "       [ 0.00000000e+00],\n",
       "       [ 0.00000000e+00],\n",
       "       [ 0.00000000e+00],\n",
       "       [ 0.00000000e+00],\n",
       "       [ 0.00000000e+00],\n",
       "       [ 0.00000000e+00]])"
      ]
     },
     "execution_count": 18,
     "metadata": {},
     "output_type": "execute_result"
    }
   ],
   "source": [
    "solar_coef"
   ]
  },
  {
   "cell_type": "code",
   "execution_count": 19,
   "metadata": {},
   "outputs": [
    {
     "name": "stdout",
     "output_type": "stream",
     "text": [
      "q_hat value >=  1.0\n",
      "[['X17']]\n",
      "q_hat value >=  0.9777777777777777\n",
      "[['X17'], ['X4']]\n",
      "q_hat value >=  0.9555555555555556\n",
      "[['X17'], ['X4'], ['X16']]\n",
      "q_hat value >=  0.9333333333333333\n",
      "[['X17'], ['X4'], ['X16'], ['X7']]\n",
      "q_hat value >=  0.9111111111111111\n",
      "[['X17'], ['X4'], ['X16'], ['X7'], ['X46']]\n",
      "q_hat value >=  0.8888888888888888\n",
      "[['X17'], ['X4'], ['X16'], ['X7'], ['X46'], ['X6']]\n",
      "q_hat value >=  0.8666666666666667\n",
      "[['X17'], ['X4'], ['X16'], ['X7'], ['X46'], ['X6'], ['X18']]\n",
      "q_hat value >=  0.8444444444444444\n",
      "[['X17'], ['X4'], ['X16'], ['X7'], ['X46'], ['X6'], ['X18'], ['X25', 'X20']]\n",
      "q_hat value >=  0.8222222222222222\n",
      "[['X17'], ['X4'], ['X16'], ['X7'], ['X46'], ['X6'], ['X18'], ['X25', 'X20'], ['X22']]\n",
      "q_hat value >=  0.8\n",
      "[['X17'], ['X4'], ['X16'], ['X7'], ['X46'], ['X6'], ['X18'], ['X25', 'X20'], ['X22'], ['X40']]\n",
      "q_hat value >=  0.7777777777777778\n",
      "[['X17'], ['X4'], ['X16'], ['X7'], ['X46'], ['X6'], ['X18'], ['X25', 'X20'], ['X22'], ['X40'], ['X38']]\n",
      "q_hat value >=  0.7555555555555555\n",
      "[['X17'], ['X4'], ['X16'], ['X7'], ['X46'], ['X6'], ['X18'], ['X25', 'X20'], ['X22'], ['X40'], ['X38'], ['X24']]\n",
      "q_hat value >=  0.7333333333333333\n",
      "[['X17'], ['X4'], ['X16'], ['X7'], ['X46'], ['X6'], ['X18'], ['X25', 'X20'], ['X22'], ['X40'], ['X38'], ['X24'], ['X56']]\n",
      "q_hat value >=  0.6888888888888889\n",
      "[['X17'], ['X4'], ['X16'], ['X7'], ['X46'], ['X6'], ['X18'], ['X25', 'X20'], ['X22'], ['X40'], ['X38'], ['X24'], ['X56'], ['X49', 'X26', 'X9']]\n",
      "q_hat value >=  0.6666666666666666\n",
      "[['X17'], ['X4'], ['X16'], ['X7'], ['X46'], ['X6'], ['X18'], ['X25', 'X20'], ['X22'], ['X40'], ['X38'], ['X24'], ['X56'], ['X49', 'X26', 'X9'], ['X31']]\n",
      "q_hat value >=  0.6444444444444445\n",
      "[['X17'], ['X4'], ['X16'], ['X7'], ['X46'], ['X6'], ['X18'], ['X25', 'X20'], ['X22'], ['X40'], ['X38'], ['X24'], ['X56'], ['X49', 'X26', 'X9'], ['X31'], ['X19']]\n",
      "q_hat value >=  0.6\n",
      "[['X17'], ['X4'], ['X16'], ['X7'], ['X46'], ['X6'], ['X18'], ['X25', 'X20'], ['X22'], ['X40'], ['X38'], ['X24'], ['X56'], ['X49', 'X26', 'X9'], ['X31'], ['X19'], ['X52', 'X42']]\n",
      "q_hat value >=  0.5777777777777777\n",
      "[['X17'], ['X4'], ['X16'], ['X7'], ['X46'], ['X6'], ['X18'], ['X25', 'X20'], ['X22'], ['X40'], ['X38'], ['X24'], ['X56'], ['X49', 'X26', 'X9'], ['X31'], ['X19'], ['X52', 'X42'], ['X21']]\n",
      "q_hat value >=  0.5555555555555556\n",
      "[['X17'], ['X4'], ['X16'], ['X7'], ['X46'], ['X6'], ['X18'], ['X25', 'X20'], ['X22'], ['X40'], ['X38'], ['X24'], ['X56'], ['X49', 'X26', 'X9'], ['X31'], ['X19'], ['X52', 'X42'], ['X21'], ['X43']]\n",
      "q_hat value >=  0.5333333333333333\n",
      "[['X17'], ['X4'], ['X16'], ['X7'], ['X46'], ['X6'], ['X18'], ['X25', 'X20'], ['X22'], ['X40'], ['X38'], ['X24'], ['X56'], ['X49', 'X26', 'X9'], ['X31'], ['X19'], ['X52', 'X42'], ['X21'], ['X43'], ['X47']]\n",
      "q_hat value >=  0.5111111111111111\n",
      "[['X17'], ['X4'], ['X16'], ['X7'], ['X46'], ['X6'], ['X18'], ['X25', 'X20'], ['X22'], ['X40'], ['X38'], ['X24'], ['X56'], ['X49', 'X26', 'X9'], ['X31'], ['X19'], ['X52', 'X42'], ['X21'], ['X43'], ['X47'], ['X34', 'X14']]\n",
      "q_hat value >=  0.4666666666666667\n",
      "[['X17'], ['X4'], ['X16'], ['X7'], ['X46'], ['X6'], ['X18'], ['X25', 'X20'], ['X22'], ['X40'], ['X38'], ['X24'], ['X56'], ['X49', 'X26', 'X9'], ['X31'], ['X19'], ['X52', 'X42'], ['X21'], ['X43'], ['X47'], ['X34', 'X14'], ['X51']]\n",
      "q_hat value >=  0.4444444444444444\n",
      "[['X17'], ['X4'], ['X16'], ['X7'], ['X46'], ['X6'], ['X18'], ['X25', 'X20'], ['X22'], ['X40'], ['X38'], ['X24'], ['X56'], ['X49', 'X26', 'X9'], ['X31'], ['X19'], ['X52', 'X42'], ['X21'], ['X43'], ['X47'], ['X34', 'X14'], ['X51'], ['X44', 'X39', 'X37']]\n",
      "q_hat value >=  0.4222222222222222\n",
      "[['X17'], ['X4'], ['X16'], ['X7'], ['X46'], ['X6'], ['X18'], ['X25', 'X20'], ['X22'], ['X40'], ['X38'], ['X24'], ['X56'], ['X49', 'X26', 'X9'], ['X31'], ['X19'], ['X52', 'X42'], ['X21'], ['X43'], ['X47'], ['X34', 'X14'], ['X51'], ['X44', 'X39', 'X37'], ['X32']]\n",
      "q_hat value >=  0.37777777777777777\n",
      "[['X17'], ['X4'], ['X16'], ['X7'], ['X46'], ['X6'], ['X18'], ['X25', 'X20'], ['X22'], ['X40'], ['X38'], ['X24'], ['X56'], ['X49', 'X26', 'X9'], ['X31'], ['X19'], ['X52', 'X42'], ['X21'], ['X43'], ['X47'], ['X34', 'X14'], ['X51'], ['X44', 'X39', 'X37'], ['X32'], ['X27']]\n",
      "q_hat value >=  0.35555555555555557\n",
      "[['X17'], ['X4'], ['X16'], ['X7'], ['X46'], ['X6'], ['X18'], ['X25', 'X20'], ['X22'], ['X40'], ['X38'], ['X24'], ['X56'], ['X49', 'X26', 'X9'], ['X31'], ['X19'], ['X52', 'X42'], ['X21'], ['X43'], ['X47'], ['X34', 'X14'], ['X51'], ['X44', 'X39', 'X37'], ['X32'], ['X27'], ['X1']]\n",
      "q_hat value >=  0.3333333333333333\n",
      "[['X17'], ['X4'], ['X16'], ['X7'], ['X46'], ['X6'], ['X18'], ['X25', 'X20'], ['X22'], ['X40'], ['X38'], ['X24'], ['X56'], ['X49', 'X26', 'X9'], ['X31'], ['X19'], ['X52', 'X42'], ['X21'], ['X43'], ['X47'], ['X34', 'X14'], ['X51'], ['X44', 'X39', 'X37'], ['X32'], ['X27'], ['X1'], ['X45']]\n",
      "q_hat value >=  0.3111111111111111\n",
      "[['X17'], ['X4'], ['X16'], ['X7'], ['X46'], ['X6'], ['X18'], ['X25', 'X20'], ['X22'], ['X40'], ['X38'], ['X24'], ['X56'], ['X49', 'X26', 'X9'], ['X31'], ['X19'], ['X52', 'X42'], ['X21'], ['X43'], ['X47'], ['X34', 'X14'], ['X51'], ['X44', 'X39', 'X37'], ['X32'], ['X27'], ['X1'], ['X45'], ['X28']]\n",
      "q_hat value >=  0.26666666666666666\n",
      "[['X17'], ['X4'], ['X16'], ['X7'], ['X46'], ['X6'], ['X18'], ['X25', 'X20'], ['X22'], ['X40'], ['X38'], ['X24'], ['X56'], ['X49', 'X26', 'X9'], ['X31'], ['X19'], ['X52', 'X42'], ['X21'], ['X43'], ['X47'], ['X34', 'X14'], ['X51'], ['X44', 'X39', 'X37'], ['X32'], ['X27'], ['X1'], ['X45'], ['X28'], ['X30']]\n",
      "q_hat value >=  0.24444444444444444\n",
      "[['X17'], ['X4'], ['X16'], ['X7'], ['X46'], ['X6'], ['X18'], ['X25', 'X20'], ['X22'], ['X40'], ['X38'], ['X24'], ['X56'], ['X49', 'X26', 'X9'], ['X31'], ['X19'], ['X52', 'X42'], ['X21'], ['X43'], ['X47'], ['X34', 'X14'], ['X51'], ['X44', 'X39', 'X37'], ['X32'], ['X27'], ['X1'], ['X45'], ['X28'], ['X30'], ['X36']]\n",
      "q_hat value >=  0.2222222222222222\n",
      "[['X17'], ['X4'], ['X16'], ['X7'], ['X46'], ['X6'], ['X18'], ['X25', 'X20'], ['X22'], ['X40'], ['X38'], ['X24'], ['X56'], ['X49', 'X26', 'X9'], ['X31'], ['X19'], ['X52', 'X42'], ['X21'], ['X43'], ['X47'], ['X34', 'X14'], ['X51'], ['X44', 'X39', 'X37'], ['X32'], ['X27'], ['X1'], ['X45'], ['X28'], ['X30'], ['X36'], ['X11']]\n",
      "q_hat value >=  0.15555555555555556\n",
      "[['X17'], ['X4'], ['X16'], ['X7'], ['X46'], ['X6'], ['X18'], ['X25', 'X20'], ['X22'], ['X40'], ['X38'], ['X24'], ['X56'], ['X49', 'X26', 'X9'], ['X31'], ['X19'], ['X52', 'X42'], ['X21'], ['X43'], ['X47'], ['X34', 'X14'], ['X51'], ['X44', 'X39', 'X37'], ['X32'], ['X27'], ['X1'], ['X45'], ['X28'], ['X30'], ['X36'], ['X11'], ['X41', 'X29', 'X23', 'X15', 'X13', 'X5']]\n",
      "q_hat value >=  0.1111111111111111\n",
      "[['X17'], ['X4'], ['X16'], ['X7'], ['X46'], ['X6'], ['X18'], ['X25', 'X20'], ['X22'], ['X40'], ['X38'], ['X24'], ['X56'], ['X49', 'X26', 'X9'], ['X31'], ['X19'], ['X52', 'X42'], ['X21'], ['X43'], ['X47'], ['X34', 'X14'], ['X51'], ['X44', 'X39', 'X37'], ['X32'], ['X27'], ['X1'], ['X45'], ['X28'], ['X30'], ['X36'], ['X11'], ['X41', 'X29', 'X23', 'X15', 'X13', 'X5'], ['X50']]\n",
      "q_hat value >=  0.06666666666666667\n",
      "[['X17'], ['X4'], ['X16'], ['X7'], ['X46'], ['X6'], ['X18'], ['X25', 'X20'], ['X22'], ['X40'], ['X38'], ['X24'], ['X56'], ['X49', 'X26', 'X9'], ['X31'], ['X19'], ['X52', 'X42'], ['X21'], ['X43'], ['X47'], ['X34', 'X14'], ['X51'], ['X44', 'X39', 'X37'], ['X32'], ['X27'], ['X1'], ['X45'], ['X28'], ['X30'], ['X36'], ['X11'], ['X41', 'X29', 'X23', 'X15', 'X13', 'X5'], ['X50'], ['X8']]\n",
      "q_hat value >=  0.044444444444444446\n",
      "[['X17'], ['X4'], ['X16'], ['X7'], ['X46'], ['X6'], ['X18'], ['X25', 'X20'], ['X22'], ['X40'], ['X38'], ['X24'], ['X56'], ['X49', 'X26', 'X9'], ['X31'], ['X19'], ['X52', 'X42'], ['X21'], ['X43'], ['X47'], ['X34', 'X14'], ['X51'], ['X44', 'X39', 'X37'], ['X32'], ['X27'], ['X1'], ['X45'], ['X28'], ['X30'], ['X36'], ['X11'], ['X41', 'X29', 'X23', 'X15', 'X13', 'X5'], ['X50'], ['X8'], ['X48', 'X12', 'X10']]\n"
     ]
    }
   ],
   "source": [
    "trial2.q_list(Qc_list)"
   ]
  },
  {
   "cell_type": "markdown",
   "metadata": {},
   "source": [
    "# variables selected by CV-lars-lasso"
   ]
  },
  {
   "cell_type": "code",
   "execution_count": 20,
   "metadata": {},
   "outputs": [
    {
     "name": "stdout",
     "output_type": "stream",
     "text": [
      "44\n",
      "Index(['Eng-speak', 'Aus', 'AgeSA1', 'Mortgage', 'Rent', 'FamInc',\n",
      "       'psn-per-bedroom', 'household_size', 'TVO2009', 'Suburb_Area',\n",
      "       'AreaSize', 'Bedrooms', 'Baths', 'Parking', 'Airport', 'Beach',\n",
      "       'Cemetery', 'ChildCare', 'Club', 'GolfCourt', 'High', 'Lib', 'Museum',\n",
      "       'Park', 'Police', 'PreSchool', 'PrimaryHigh', 'Primary', 'RailStat',\n",
      "       'Rubbish', 'SportsCenter', 'SportsCourtField', 'Swimming', 'Tertiary',\n",
      "       'DistBound', 'ICSEA', 'ReadingY3', 'WritingY3', 'SpellingY3',\n",
      "       'GrammarY3', 'NumeracyY3', 'WritingY5', 'SpellingY5', 'GrammarY5'],\n",
      "      dtype='object')\n"
     ]
    }
   ],
   "source": [
    "lasso_lars_active = X_table.columns[lasso_lars_ind]\n",
    "print(np.count_nonzero(lasso_lars_ind))\n",
    "print(lasso_lars_active)"
   ]
  },
  {
   "cell_type": "markdown",
   "metadata": {},
   "source": [
    "# variables selected by CV-cd"
   ]
  },
  {
   "cell_type": "code",
   "execution_count": 21,
   "metadata": {},
   "outputs": [
    {
     "name": "stdout",
     "output_type": "stream",
     "text": [
      "44\n",
      "Index(['Eng-speak', 'Aus', 'AgeSA1', 'Mortgage', 'Rent', 'FamInc',\n",
      "       'psn-per-bedroom', 'household_size', 'TVO2009', 'Suburb_Area',\n",
      "       'AreaSize', 'Bedrooms', 'Baths', 'Parking', 'Airport', 'Beach',\n",
      "       'Cemetery', 'ChildCare', 'Club', 'GolfCourt', 'High', 'Lib', 'Museum',\n",
      "       'Park', 'Police', 'PreSchool', 'PrimaryHigh', 'Primary', 'RailStat',\n",
      "       'Rubbish', 'SportsCenter', 'SportsCourtField', 'Swimming', 'Tertiary',\n",
      "       'DistBound', 'ICSEA', 'ReadingY3', 'WritingY3', 'SpellingY3',\n",
      "       'GrammarY3', 'NumeracyY3', 'WritingY5', 'SpellingY5', 'GrammarY5'],\n",
      "      dtype='object')\n"
     ]
    }
   ],
   "source": [
    "lassoCV_active = X_table.columns[lassoCV_ind]\n",
    "print(np.count_nonzero(lassoCV_ceof))\n",
    "print(lassoCV_active)"
   ]
  },
  {
   "cell_type": "markdown",
   "metadata": {},
   "source": [
    "# variables selected by solar"
   ]
  },
  {
   "cell_type": "code",
   "execution_count": 22,
   "metadata": {},
   "outputs": [
    {
     "name": "stdout",
     "output_type": "stream",
     "text": [
      "9\n",
      "Index(['Mortgage', 'Rent', 'FamInc', 'Bedrooms', 'Baths', 'Parking', 'Beach',\n",
      "       'Gaol', 'ICSEA'],\n",
      "      dtype='object')\n"
     ]
    }
   ],
   "source": [
    "solar_active = X_table.columns[solar_ind]\n",
    "print(np.count_nonzero(solar_coef))\n",
    "print(solar_active)"
   ]
  },
  {
   "cell_type": "markdown",
   "metadata": {},
   "source": [
    "# variables selected by CV-en"
   ]
  },
  {
   "cell_type": "code",
   "execution_count": 23,
   "metadata": {},
   "outputs": [
    {
     "name": "stdout",
     "output_type": "stream",
     "text": [
      "57\n",
      "Index(['TotPop', 'Eng-speak', 'Aus', 'AgeSA1', 'Mortgage', 'Inc', 'Rent',\n",
      "       'FamInc', 'psn-per-bedroom', 'household_size', 'TVO2010', 'TPO2010',\n",
      "       'TVO2009', 'TPO2009', 'Suburb_Area', 'AreaSize', 'Bedrooms', 'Baths',\n",
      "       'Parking', 'Airport', 'Beach', 'Cemetery', 'ChildCare',\n",
      "       'CommunityFacility', 'Club', 'Gaol', 'GeneralHospital', 'GolfCourt',\n",
      "       'High', 'Lib', 'MedCenter', 'Museum', 'Park', 'PO', 'Police',\n",
      "       'PreSchool', 'PrimaryHigh', 'Primary', 'RailStat', 'Rubbish', 'Sewage',\n",
      "       'SportsCenter', 'SportsCourtField', 'Swimming', 'Tertiary', 'DistBound',\n",
      "       'ICSEA', 'ReadingY3', 'WritingY3', 'SpellingY3', 'GrammarY3',\n",
      "       'NumeracyY3', 'ReadingY5', 'WritingY5', 'SpellingY5', 'GrammarY5',\n",
      "       'NumeracyY5'],\n",
      "      dtype='object')\n"
     ]
    }
   ],
   "source": [
    "en_coef   = regr.coef_\n",
    "en_ind    = np.nonzero(en_coef)\n",
    "en_active = X_table.columns[en_ind]\n",
    "print(np.count_nonzero(en_coef))\n",
    "print(en_active)"
   ]
  },
  {
   "cell_type": "markdown",
   "metadata": {},
   "source": [
    "# post-elastic-net OLS"
   ]
  },
  {
   "cell_type": "code",
   "execution_count": 24,
   "metadata": {},
   "outputs": [
    {
     "name": "stdout",
     "output_type": "stream",
     "text": [
      "                            OLS Regression Results                            \n",
      "==============================================================================\n",
      "Dep. Variable:                  Price   R-squared:                       0.549\n",
      "Model:                            OLS   Adj. R-squared:                  0.547\n",
      "Method:                 Least Squares   F-statistic:                     254.5\n",
      "Date:                Wed, 16 Dec 2020   Prob (F-statistic):               0.00\n",
      "Time:                        23:29:30   Log-Likelihood:                -12222.\n",
      "No. Observations:               11974   AIC:                         2.456e+04\n",
      "Df Residuals:                   11916   BIC:                         2.499e+04\n",
      "Df Model:                          57                                         \n",
      "Covariance Type:            nonrobust                                         \n",
      "=====================================================================================\n",
      "                        coef    std err          t      P>|t|      [0.025      0.975]\n",
      "-------------------------------------------------------------------------------------\n",
      "const             -8.805e-15      0.006  -1.43e-12      1.000      -0.012       0.012\n",
      "TotPop               -0.0220      0.019     -1.164      0.244      -0.059       0.015\n",
      "Eng-speak            -0.1322      0.019     -7.118      0.000      -0.169      -0.096\n",
      "Aus                   0.1095      0.023      4.678      0.000       0.064       0.155\n",
      "AgeSA1                0.0288      0.008      3.561      0.000       0.013       0.045\n",
      "Mortgage              0.1356      0.008     16.743      0.000       0.120       0.151\n",
      "Inc                   0.0119      0.016      0.743      0.457      -0.020       0.043\n",
      "Rent                  0.0574      0.008      7.184      0.000       0.042       0.073\n",
      "FamInc                0.0493      0.016      3.070      0.002       0.018       0.081\n",
      "psn-per-bedroom      -0.0272      0.011     -2.585      0.010      -0.048      -0.007\n",
      "household_size        0.0075      0.012      0.636      0.525      -0.016       0.030\n",
      "TVO2010               0.1492      0.048      3.098      0.002       0.055       0.244\n",
      "TPO2010               0.0655      0.061      1.069      0.285      -0.055       0.186\n",
      "TVO2009              -0.1784      0.042     -4.299      0.000      -0.260      -0.097\n",
      "TPO2009              -0.0802      0.060     -1.336      0.181      -0.198       0.037\n",
      "Suburb_Area          -0.0027      0.009     -0.314      0.753      -0.020       0.014\n",
      "AreaSize             -0.0544      0.007     -7.367      0.000      -0.069      -0.040\n",
      "Bedrooms              0.2519      0.010     25.746      0.000       0.233       0.271\n",
      "Baths                 0.2244      0.009     25.890      0.000       0.207       0.241\n",
      "Parking               0.1058      0.007     14.619      0.000       0.092       0.120\n",
      "Airport               0.1667      0.043      3.897      0.000       0.083       0.251\n",
      "Beach                -0.2621      0.031     -8.382      0.000      -0.323      -0.201\n",
      "Cemetery             -0.0656      0.018     -3.624      0.000      -0.101      -0.030\n",
      "ChildCare            -0.4283      0.035    -12.201      0.000      -0.497      -0.359\n",
      "CommunityFacility     0.0061      0.012      0.488      0.626      -0.018       0.030\n",
      "Club                 -0.0484      0.010     -4.823      0.000      -0.068      -0.029\n",
      "Gaol                  0.1203      0.048      2.497      0.013       0.026       0.215\n",
      "GeneralHospital      -0.0085      0.014     -0.603      0.546      -0.036       0.019\n",
      "GolfCourt            -0.0683      0.011     -6.219      0.000      -0.090      -0.047\n",
      "High                  0.0650      0.011      6.062      0.000       0.044       0.086\n",
      "Lib                  -0.0515      0.012     -4.187      0.000      -0.076      -0.027\n",
      "MedCenter             0.0249      0.012      2.062      0.039       0.001       0.049\n",
      "Museum                0.0403      0.012      3.248      0.001       0.016       0.065\n",
      "Park                  0.0074      0.007      1.076      0.282      -0.006       0.021\n",
      "PO                    0.0086      0.009      0.990      0.322      -0.008       0.025\n",
      "Police               -0.0293      0.012     -2.399      0.016      -0.053      -0.005\n",
      "PreSchool             0.0367      0.019      1.888      0.059      -0.001       0.075\n",
      "PrimaryHigh          -0.1231      0.014     -8.527      0.000      -0.151      -0.095\n",
      "Primary              -0.0125      0.008     -1.659      0.097      -0.027       0.002\n",
      "RailStat             -0.0435      0.016     -2.768      0.006      -0.074      -0.013\n",
      "Rubbish              -0.0025      0.037     -0.067      0.947      -0.075       0.070\n",
      "Sewage               -0.0312      0.023     -1.330      0.184      -0.077       0.015\n",
      "SportsCenter          0.0902      0.012      7.488      0.000       0.067       0.114\n",
      "SportsCourtField      0.0143      0.007      1.999      0.046       0.000       0.028\n",
      "Swimming             -0.0549      0.012     -4.678      0.000      -0.078      -0.032\n",
      "Tertiary              0.1550      0.021      7.426      0.000       0.114       0.196\n",
      "DistBound             0.0379      0.016      2.416      0.016       0.007       0.069\n",
      "ICSEA                 0.0719      0.015      4.863      0.000       0.043       0.101\n",
      "ReadingY3            -0.0999      0.024     -4.241      0.000      -0.146      -0.054\n",
      "WritingY3            -0.0854      0.013     -6.726      0.000      -0.110      -0.060\n",
      "SpellingY3            0.0665      0.016      4.151      0.000       0.035       0.098\n",
      "GrammarY3             0.0510      0.022      2.333      0.020       0.008       0.094\n",
      "NumeracyY3            0.0377      0.018      2.142      0.032       0.003       0.072\n",
      "ReadingY5             0.0153      0.024      0.645      0.519      -0.031       0.062\n",
      "WritingY5            -0.0184      0.016     -1.114      0.265      -0.051       0.014\n",
      "SpellingY5           -0.0166      0.018     -0.918      0.359      -0.052       0.019\n",
      "GrammarY5             0.0662      0.027      2.449      0.014       0.013       0.119\n",
      "NumeracyY5           -0.0356      0.019     -1.881      0.060      -0.073       0.001\n",
      "==============================================================================\n",
      "Omnibus:                    16122.281   Durbin-Watson:                   1.888\n",
      "Prob(Omnibus):                  0.000   Jarque-Bera (JB):          8566565.255\n",
      "Skew:                           7.370   Prob(JB):                         0.00\n",
      "Kurtosis:                     133.204   Cond. No.                         46.7\n",
      "==============================================================================\n",
      "\n",
      "Notes:\n",
      "[1] Standard Errors assume that the covariance matrix of the errors is correctly specified.\n"
     ]
    }
   ],
   "source": [
    "X_en = X_table[en_active]\n",
    "\n",
    "X_en =(X_en-X_en.mean())/X_en.std()\n",
    "Y_table =(Y_table-Y_table.mean())/Y_table.std()\n",
    "\n",
    "X_en = sm.add_constant(X_en)\n",
    "OLS_en = sm.OLS(Y_table, X_en)\n",
    "\n",
    "OLS_en_result = OLS_en.fit()\n",
    "print(OLS_en_result.summary())"
   ]
  },
  {
   "cell_type": "markdown",
   "metadata": {},
   "source": [
    "# post-lasso OLS"
   ]
  },
  {
   "cell_type": "code",
   "execution_count": 26,
   "metadata": {},
   "outputs": [
    {
     "name": "stdout",
     "output_type": "stream",
     "text": [
      "                            OLS Regression Results                            \n",
      "==============================================================================\n",
      "Dep. Variable:                  Price   R-squared:                       0.548\n",
      "Model:                            OLS   Adj. R-squared:                  0.546\n",
      "Method:                 Least Squares   F-statistic:                     328.5\n",
      "Date:                Wed, 16 Dec 2020   Prob (F-statistic):               0.00\n",
      "Time:                        23:29:49   Log-Likelihood:                -12237.\n",
      "No. Observations:               11974   AIC:                         2.456e+04\n",
      "Df Residuals:                   11929   BIC:                         2.490e+04\n",
      "Df Model:                          44                                         \n",
      "Covariance Type:            nonrobust                                         \n",
      "====================================================================================\n",
      "                       coef    std err          t      P>|t|      [0.025      0.975]\n",
      "------------------------------------------------------------------------------------\n",
      "const             -1.47e-14      0.006  -2.39e-12      1.000      -0.012       0.012\n",
      "Eng-speak           -0.1299      0.018     -7.305      0.000      -0.165      -0.095\n",
      "Aus                  0.0872      0.014      6.105      0.000       0.059       0.115\n",
      "AgeSA1               0.0322      0.008      4.282      0.000       0.017       0.047\n",
      "Mortgage             0.1361      0.008     16.875      0.000       0.120       0.152\n",
      "Rent                 0.0577      0.008      7.536      0.000       0.043       0.073\n",
      "FamInc               0.0578      0.012      4.625      0.000       0.033       0.082\n",
      "psn-per-bedroom     -0.0334      0.009     -3.624      0.000      -0.051      -0.015\n",
      "household_size       0.0072      0.010      0.708      0.479      -0.013       0.027\n",
      "TVO2009             -0.0439      0.008     -5.368      0.000      -0.060      -0.028\n",
      "Suburb_Area         -0.0122      0.008     -1.499      0.134      -0.028       0.004\n",
      "AreaSize            -0.0556      0.007     -7.747      0.000      -0.070      -0.042\n",
      "Bedrooms             0.2528      0.010     25.953      0.000       0.234       0.272\n",
      "Baths                0.2249      0.009     26.165      0.000       0.208       0.242\n",
      "Parking              0.1048      0.007     14.486      0.000       0.091       0.119\n",
      "Airport              0.1817      0.036      4.992      0.000       0.110       0.253\n",
      "Beach               -0.2111      0.014    -15.443      0.000      -0.238      -0.184\n",
      "Cemetery            -0.0568      0.015     -3.880      0.000      -0.085      -0.028\n",
      "ChildCare           -0.3713      0.028    -13.171      0.000      -0.427      -0.316\n",
      "Club                -0.0366      0.009     -4.115      0.000      -0.054      -0.019\n",
      "GolfCourt           -0.0619      0.010     -5.939      0.000      -0.082      -0.041\n",
      "High                 0.0672      0.010      6.498      0.000       0.047       0.087\n",
      "Lib                 -0.0433      0.011     -3.815      0.000      -0.066      -0.021\n",
      "Museum               0.0235      0.011      2.117      0.034       0.002       0.045\n",
      "Park                 0.0079      0.007      1.187      0.235      -0.005       0.021\n",
      "Police              -0.0344      0.011     -3.036      0.002      -0.057      -0.012\n",
      "PreSchool            0.0371      0.017      2.160      0.031       0.003       0.071\n",
      "PrimaryHigh         -0.1102      0.013     -8.496      0.000      -0.136      -0.085\n",
      "Primary             -0.0070      0.007     -0.993      0.321      -0.021       0.007\n",
      "RailStat            -0.0628      0.013     -4.971      0.000      -0.088      -0.038\n",
      "Rubbish              0.0427      0.032      1.313      0.189      -0.021       0.106\n",
      "SportsCenter         0.0949      0.011      8.647      0.000       0.073       0.116\n",
      "SportsCourtField     0.0145      0.007      2.105      0.035       0.001       0.028\n",
      "Swimming            -0.0499      0.011     -4.679      0.000      -0.071      -0.029\n",
      "Tertiary             0.1344      0.018      7.395      0.000       0.099       0.170\n",
      "DistBound            0.0541      0.014      4.002      0.000       0.028       0.081\n",
      "ICSEA                0.0740      0.014      5.280      0.000       0.047       0.101\n",
      "ReadingY3           -0.0911      0.022     -4.054      0.000      -0.135      -0.047\n",
      "WritingY3           -0.0779      0.012     -6.532      0.000      -0.101      -0.054\n",
      "SpellingY3           0.0612      0.016      3.917      0.000       0.031       0.092\n",
      "GrammarY3            0.0517      0.021      2.467      0.014       0.011       0.093\n",
      "NumeracyY3           0.0242      0.017      1.433      0.152      -0.009       0.057\n",
      "WritingY5           -0.0316      0.016     -1.990      0.047      -0.063      -0.000\n",
      "SpellingY5          -0.0283      0.016     -1.724      0.085      -0.060       0.004\n",
      "GrammarY5            0.0736      0.020      3.630      0.000       0.034       0.113\n",
      "==============================================================================\n",
      "Omnibus:                    16178.956   Durbin-Watson:                   1.886\n",
      "Prob(Omnibus):                  0.000   Jarque-Bera (JB):          8683299.345\n",
      "Skew:                           7.419   Prob(JB):                         0.00\n",
      "Kurtosis:                     134.088   Cond. No.                         23.0\n",
      "==============================================================================\n",
      "\n",
      "Notes:\n",
      "[1] Standard Errors assume that the covariance matrix of the errors is correctly specified.\n"
     ]
    }
   ],
   "source": [
    "X_lars = X_table[lasso_lars_active]\n",
    "Y_lars = result[['Price']]\n",
    "\n",
    "X_lars =(X_lars-X_lars.mean())/X_lars.std()\n",
    "Y_lars =(Y_lars-Y_lars.mean())/Y_lars.std()\n",
    "\n",
    "X_lars = sm.add_constant(X_lars)\n",
    "OLS_lars = sm.OLS(Y_lars, X_lars)\n",
    "\n",
    "OLS_lars_result = OLS_lars.fit()\n",
    "print(OLS_lars_result.summary())"
   ]
  },
  {
   "cell_type": "markdown",
   "metadata": {},
   "source": [
    "# correlation table of all variables selected by solar"
   ]
  },
  {
   "cell_type": "code",
   "execution_count": 27,
   "metadata": {},
   "outputs": [
    {
     "data": {
      "text/html": [
       "<div>\n",
       "<style scoped>\n",
       "    .dataframe tbody tr th:only-of-type {\n",
       "        vertical-align: middle;\n",
       "    }\n",
       "\n",
       "    .dataframe tbody tr th {\n",
       "        vertical-align: top;\n",
       "    }\n",
       "\n",
       "    .dataframe thead th {\n",
       "        text-align: right;\n",
       "    }\n",
       "</style>\n",
       "<table border=\"1\" class=\"dataframe\">\n",
       "  <thead>\n",
       "    <tr style=\"text-align: right;\">\n",
       "      <th></th>\n",
       "      <th>Mortgage</th>\n",
       "      <th>Rent</th>\n",
       "      <th>FamInc</th>\n",
       "      <th>Bedrooms</th>\n",
       "      <th>Baths</th>\n",
       "      <th>Parking</th>\n",
       "      <th>Beach</th>\n",
       "      <th>Gaol</th>\n",
       "      <th>ICSEA</th>\n",
       "    </tr>\n",
       "  </thead>\n",
       "  <tbody>\n",
       "    <tr>\n",
       "      <th>Mortgage</th>\n",
       "      <td>1.000000</td>\n",
       "      <td>0.387588</td>\n",
       "      <td>0.549591</td>\n",
       "      <td>0.181471</td>\n",
       "      <td>0.231820</td>\n",
       "      <td>0.132911</td>\n",
       "      <td>-0.234297</td>\n",
       "      <td>-0.194712</td>\n",
       "      <td>0.345316</td>\n",
       "    </tr>\n",
       "    <tr>\n",
       "      <th>Rent</th>\n",
       "      <td>0.387588</td>\n",
       "      <td>1.000000</td>\n",
       "      <td>0.489310</td>\n",
       "      <td>0.061113</td>\n",
       "      <td>0.187923</td>\n",
       "      <td>0.069385</td>\n",
       "      <td>-0.256053</td>\n",
       "      <td>-0.217708</td>\n",
       "      <td>0.347929</td>\n",
       "    </tr>\n",
       "    <tr>\n",
       "      <th>FamInc</th>\n",
       "      <td>0.549591</td>\n",
       "      <td>0.489310</td>\n",
       "      <td>1.000000</td>\n",
       "      <td>0.085100</td>\n",
       "      <td>0.207115</td>\n",
       "      <td>0.084736</td>\n",
       "      <td>-0.328614</td>\n",
       "      <td>-0.183137</td>\n",
       "      <td>0.586666</td>\n",
       "    </tr>\n",
       "    <tr>\n",
       "      <th>Bedrooms</th>\n",
       "      <td>0.181471</td>\n",
       "      <td>0.061113</td>\n",
       "      <td>0.085100</td>\n",
       "      <td>1.000000</td>\n",
       "      <td>0.640027</td>\n",
       "      <td>0.480205</td>\n",
       "      <td>0.034859</td>\n",
       "      <td>0.192444</td>\n",
       "      <td>-0.043633</td>\n",
       "    </tr>\n",
       "    <tr>\n",
       "      <th>Baths</th>\n",
       "      <td>0.231820</td>\n",
       "      <td>0.187923</td>\n",
       "      <td>0.207115</td>\n",
       "      <td>0.640027</td>\n",
       "      <td>1.000000</td>\n",
       "      <td>0.428859</td>\n",
       "      <td>-0.072909</td>\n",
       "      <td>0.035303</td>\n",
       "      <td>0.098135</td>\n",
       "    </tr>\n",
       "    <tr>\n",
       "      <th>Parking</th>\n",
       "      <td>0.132911</td>\n",
       "      <td>0.069385</td>\n",
       "      <td>0.084736</td>\n",
       "      <td>0.480205</td>\n",
       "      <td>0.428859</td>\n",
       "      <td>1.000000</td>\n",
       "      <td>-0.007429</td>\n",
       "      <td>0.100043</td>\n",
       "      <td>-0.021987</td>\n",
       "    </tr>\n",
       "    <tr>\n",
       "      <th>Beach</th>\n",
       "      <td>-0.234297</td>\n",
       "      <td>-0.256053</td>\n",
       "      <td>-0.328614</td>\n",
       "      <td>0.034859</td>\n",
       "      <td>-0.072909</td>\n",
       "      <td>-0.007429</td>\n",
       "      <td>1.000000</td>\n",
       "      <td>0.528157</td>\n",
       "      <td>-0.260294</td>\n",
       "    </tr>\n",
       "    <tr>\n",
       "      <th>Gaol</th>\n",
       "      <td>-0.194712</td>\n",
       "      <td>-0.217708</td>\n",
       "      <td>-0.183137</td>\n",
       "      <td>0.192444</td>\n",
       "      <td>0.035303</td>\n",
       "      <td>0.100043</td>\n",
       "      <td>0.528157</td>\n",
       "      <td>1.000000</td>\n",
       "      <td>-0.233874</td>\n",
       "    </tr>\n",
       "    <tr>\n",
       "      <th>ICSEA</th>\n",
       "      <td>0.345316</td>\n",
       "      <td>0.347929</td>\n",
       "      <td>0.586666</td>\n",
       "      <td>-0.043633</td>\n",
       "      <td>0.098135</td>\n",
       "      <td>-0.021987</td>\n",
       "      <td>-0.260294</td>\n",
       "      <td>-0.233874</td>\n",
       "      <td>1.000000</td>\n",
       "    </tr>\n",
       "  </tbody>\n",
       "</table>\n",
       "</div>"
      ],
      "text/plain": [
       "          Mortgage      Rent    FamInc  Bedrooms     Baths   Parking  \\\n",
       "Mortgage  1.000000  0.387588  0.549591  0.181471  0.231820  0.132911   \n",
       "Rent      0.387588  1.000000  0.489310  0.061113  0.187923  0.069385   \n",
       "FamInc    0.549591  0.489310  1.000000  0.085100  0.207115  0.084736   \n",
       "Bedrooms  0.181471  0.061113  0.085100  1.000000  0.640027  0.480205   \n",
       "Baths     0.231820  0.187923  0.207115  0.640027  1.000000  0.428859   \n",
       "Parking   0.132911  0.069385  0.084736  0.480205  0.428859  1.000000   \n",
       "Beach    -0.234297 -0.256053 -0.328614  0.034859 -0.072909 -0.007429   \n",
       "Gaol     -0.194712 -0.217708 -0.183137  0.192444  0.035303  0.100043   \n",
       "ICSEA     0.345316  0.347929  0.586666 -0.043633  0.098135 -0.021987   \n",
       "\n",
       "             Beach      Gaol     ICSEA  \n",
       "Mortgage -0.234297 -0.194712  0.345316  \n",
       "Rent     -0.256053 -0.217708  0.347929  \n",
       "FamInc   -0.328614 -0.183137  0.586666  \n",
       "Bedrooms  0.034859  0.192444 -0.043633  \n",
       "Baths    -0.072909  0.035303  0.098135  \n",
       "Parking  -0.007429  0.100043 -0.021987  \n",
       "Beach     1.000000  0.528157 -0.260294  \n",
       "Gaol      0.528157  1.000000 -0.233874  \n",
       "ICSEA    -0.260294 -0.233874  1.000000  "
      ]
     },
     "execution_count": 27,
     "metadata": {},
     "output_type": "execute_result"
    }
   ],
   "source": [
    "X_table[solar_active].corr()"
   ]
  },
  {
   "cell_type": "markdown",
   "metadata": {},
   "source": [
    "# correlations to goal of all variable selected by solar"
   ]
  },
  {
   "cell_type": "code",
   "execution_count": 28,
   "metadata": {},
   "outputs": [
    {
     "data": {
      "text/plain": [
       "TotPop              -0.092099\n",
       "Eng-speak            0.074329\n",
       "Aus                  0.124384\n",
       "AgeSA1               0.118584\n",
       "Mortgage            -0.194712\n",
       "Inc                 -0.242516\n",
       "Rent                -0.217708\n",
       "FamInc              -0.183137\n",
       "psn-per-bedroom     -0.264544\n",
       "household_size       0.308524\n",
       "TVO2010             -0.219073\n",
       "TPO2010             -0.278272\n",
       "TVO2009             -0.268787\n",
       "TPO2009             -0.285817\n",
       "Suburb_Area          0.253255\n",
       "AreaSize            -0.035481\n",
       "Bedrooms             0.192444\n",
       "Baths                0.035303\n",
       "Parking              0.100043\n",
       "Airport              0.715427\n",
       "Beach                0.528157\n",
       "Cemetery             0.399691\n",
       "ChildCare            0.755749\n",
       "CommunityFacility    0.323157\n",
       "Club                 0.412455\n",
       "Gaol                 1.000000\n",
       "GeneralHospital      0.466243\n",
       "GolfCourt            0.479372\n",
       "High                 0.197855\n",
       "Lib                  0.251244\n",
       "MedCenter            0.305488\n",
       "Museum               0.221621\n",
       "Park                 0.188285\n",
       "PO                   0.293604\n",
       "Police               0.288577\n",
       "PreSchool            0.472014\n",
       "PrimaryHigh          0.291480\n",
       "Primary              0.206992\n",
       "RailStat            -0.151291\n",
       "Rubbish              0.670654\n",
       "Sewage               0.448407\n",
       "SportsCenter         0.161646\n",
       "SportsCourtField     0.188234\n",
       "Swimming             0.382155\n",
       "Tertiary             0.482947\n",
       "DistBound            0.273401\n",
       "ICSEA               -0.233874\n",
       "ReadingY3           -0.037705\n",
       "WritingY3           -0.029288\n",
       "SpellingY3          -0.008617\n",
       "GrammarY3           -0.000777\n",
       "NumeracyY3           0.005024\n",
       "ReadingY5            0.018812\n",
       "WritingY5            0.015240\n",
       "SpellingY5           0.011500\n",
       "GrammarY5            0.004218\n",
       "NumeracyY5           0.023201\n",
       "Name: Gaol, dtype: float64"
      ]
     },
     "execution_count": 28,
     "metadata": {},
     "output_type": "execute_result"
    }
   ],
   "source": [
    "X_table.corr()['Gaol']"
   ]
  },
  {
   "cell_type": "markdown",
   "metadata": {},
   "source": [
    "# post-solar OLS"
   ]
  },
  {
   "cell_type": "code",
   "execution_count": 29,
   "metadata": {},
   "outputs": [
    {
     "name": "stdout",
     "output_type": "stream",
     "text": [
      "                            OLS Regression Results                            \n",
      "==============================================================================\n",
      "Dep. Variable:                  Price   R-squared:                       0.494\n",
      "Model:                            OLS   Adj. R-squared:                  0.493\n",
      "Method:                 Least Squares   F-statistic:                     1296.\n",
      "Date:                Wed, 16 Dec 2020   Prob (F-statistic):               0.00\n",
      "Time:                        23:29:56   Log-Likelihood:                -12915.\n",
      "No. Observations:               11974   AIC:                         2.585e+04\n",
      "Df Residuals:                   11964   BIC:                         2.592e+04\n",
      "Df Model:                           9                                         \n",
      "Covariance Type:            nonrobust                                         \n",
      "==============================================================================\n",
      "                 coef    std err          t      P>|t|      [0.025      0.975]\n",
      "------------------------------------------------------------------------------\n",
      "const         -4.7210      0.140    -33.656      0.000      -4.996      -4.446\n",
      "Mortgage       0.0003   1.13e-05     23.368      0.000       0.000       0.000\n",
      "Rent           0.0005   5.05e-05     10.468      0.000       0.000       0.001\n",
      "FamInc      9.487e-05   1.64e-05      5.798      0.000    6.28e-05       0.000\n",
      "Bedrooms       0.2416      0.009     28.180      0.000       0.225       0.258\n",
      "Baths          0.2988      0.012     25.265      0.000       0.276       0.322\n",
      "Parking        0.1391      0.010     13.975      0.000       0.120       0.159\n",
      "Beach         -1.1349      0.219     -5.190      0.000      -1.563      -0.706\n",
      "Gaol          -2.7212      0.153    -17.811      0.000      -3.021      -2.422\n",
      "ICSEA          0.0025      0.000     18.365      0.000       0.002       0.003\n",
      "==============================================================================\n",
      "Omnibus:                    16249.618   Durbin-Watson:                   1.895\n",
      "Prob(Omnibus):                  0.000   Jarque-Bera (JB):          8295014.489\n",
      "Skew:                           7.508   Prob(JB):                         0.00\n",
      "Kurtosis:                     131.065   Cond. No.                     1.26e+05\n",
      "==============================================================================\n",
      "\n",
      "Notes:\n",
      "[1] Standard Errors assume that the covariance matrix of the errors is correctly specified.\n",
      "[2] The condition number is large, 1.26e+05. This might indicate that there are\n",
      "strong multicollinearity or other numerical problems.\n"
     ]
    }
   ],
   "source": [
    "X_Gaol = X_table[solar_active]\n",
    "\n",
    "X_Gaol = sm.add_constant(X_Gaol)\n",
    "OLS_reg = sm.OLS(Y_table, X_Gaol)\n",
    "\n",
    "OLS_result = OLS_reg.fit()\n",
    "print(OLS_result.summary())"
   ]
  },
  {
   "cell_type": "markdown",
   "metadata": {},
   "source": [
    "# post-rectified-solar regression"
   ]
  },
  {
   "cell_type": "code",
   "execution_count": 30,
   "metadata": {},
   "outputs": [
    {
     "name": "stdout",
     "output_type": "stream",
     "text": [
      "                            OLS Regression Results                            \n",
      "==============================================================================\n",
      "Dep. Variable:                  Price   R-squared:                       0.515\n",
      "Model:                            OLS   Adj. R-squared:                  0.515\n",
      "Method:                 Least Squares   F-statistic:                     1059.\n",
      "Date:                Wed, 16 Dec 2020   Prob (F-statistic):               0.00\n",
      "Time:                        23:31:26   Log-Likelihood:                -12656.\n",
      "No. Observations:               11974   AIC:                         2.534e+04\n",
      "Df Residuals:                   11961   BIC:                         2.543e+04\n",
      "Df Model:                          12                                         \n",
      "Covariance Type:            nonrobust                                         \n",
      "==============================================================================\n",
      "                 coef    std err          t      P>|t|      [0.025      0.975]\n",
      "------------------------------------------------------------------------------\n",
      "const       2.354e-14      0.006    3.7e-12      1.000      -0.012       0.012\n",
      "Mortgage       0.1771      0.008     22.320      0.000       0.162       0.193\n",
      "Rent           0.0679      0.008      8.994      0.000       0.053       0.083\n",
      "FamInc        -0.0070      0.010     -0.689      0.491      -0.027       0.013\n",
      "Bedrooms       0.2797      0.009     30.568      0.000       0.262       0.298\n",
      "Baths          0.2175      0.009     24.997      0.000       0.200       0.235\n",
      "Parking        0.1126      0.007     15.165      0.000       0.098       0.127\n",
      "Beach         -0.0787      0.014     -5.798      0.000      -0.105      -0.052\n",
      "Gaol          -0.0848      0.020     -4.249      0.000      -0.124      -0.046\n",
      "ICSEA          0.0824      0.009      9.231      0.000       0.065       0.100\n",
      "Airport        0.1076      0.026      4.070      0.000       0.056       0.159\n",
      "ChildCare     -0.3533      0.020    -17.946      0.000      -0.392      -0.315\n",
      "Rubbish        0.1715      0.020      8.425      0.000       0.132       0.211\n",
      "==============================================================================\n",
      "Omnibus:                    16213.422   Durbin-Watson:                   1.884\n",
      "Prob(Omnibus):                  0.000   Jarque-Bera (JB):          8545570.520\n",
      "Skew:                           7.459   Prob(JB):                         0.00\n",
      "Kurtosis:                     133.022   Cond. No.                         9.99\n",
      "==============================================================================\n",
      "\n",
      "Notes:\n",
      "[1] Standard Errors assume that the covariance matrix of the errors is correctly specified.\n"
     ]
    }
   ],
   "source": [
    "X_else = X_table[['Mortgage', 'Rent', 'FamInc', 'Bedrooms', 'Baths', 'Parking', 'Beach',\n",
    "       'Gaol', 'ICSEA', 'Airport', 'ChildCare', 'Rubbish']]\n",
    "\n",
    "Y_table = (Y_table - Y_table.mean()) / Y_table.std()\n",
    "X_else  = (X_else  - X_else.mean() ) / X_else.std()\n",
    "\n",
    "X_else = sm.add_constant(X_else)\n",
    "OLS_reg3 = sm.OLS(Y_table, X_else)\n",
    "\n",
    "OLS_result3 = OLS_reg3.fit()\n",
    "print(OLS_result3.summary())"
   ]
  },
  {
   "cell_type": "markdown",
   "metadata": {},
   "source": [
    "# regression gaol to highly correalted variables for irrrepresentable condition check"
   ]
  },
  {
   "cell_type": "code",
   "execution_count": 31,
   "metadata": {},
   "outputs": [
    {
     "name": "stdout",
     "output_type": "stream",
     "text": [
      "                            OLS Regression Results                            \n",
      "==============================================================================\n",
      "Dep. Variable:                   Gaol   R-squared:                       0.885\n",
      "Model:                            OLS   Adj. R-squared:                  0.885\n",
      "Method:                 Least Squares   F-statistic:                 2.311e+04\n",
      "Date:                Wed, 16 Dec 2020   Prob (F-statistic):               0.00\n",
      "Time:                        23:31:33   Log-Likelihood:                -4023.1\n",
      "No. Observations:               11974   AIC:                             8056.\n",
      "Df Residuals:                   11969   BIC:                             8093.\n",
      "Df Model:                           4                                         \n",
      "Covariance Type:            nonrobust                                         \n",
      "==============================================================================\n",
      "                 coef    std err          t      P>|t|      [0.025      0.975]\n",
      "------------------------------------------------------------------------------\n",
      "const      -7.924e-15      0.003  -2.56e-12      1.000      -0.006       0.006\n",
      "Airport        0.4488      0.011     41.063      0.000       0.427       0.470\n",
      "ChildCare      0.3276      0.006     56.908      0.000       0.316       0.339\n",
      "Rubbish        0.0373      0.010      3.849      0.000       0.018       0.056\n",
      "Beach          0.5522      0.003    174.257      0.000       0.546       0.558\n",
      "==============================================================================\n",
      "Omnibus:                     3453.507   Durbin-Watson:                   1.370\n",
      "Prob(Omnibus):                  0.000   Jarque-Bera (JB):            11473.293\n",
      "Skew:                          -1.454   Prob(JB):                         0.00\n",
      "Kurtosis:                       6.813   Cond. No.                         7.54\n",
      "==============================================================================\n",
      "\n",
      "Notes:\n",
      "[1] Standard Errors assume that the covariance matrix of the errors is correctly specified.\n"
     ]
    }
   ],
   "source": [
    "X_Gaol_group = X_table[['Airport', 'ChildCare', 'Rubbish', 'Beach']]\n",
    "Y_Gaol_group = X_table[['Gaol']]\n",
    "\n",
    "Y_Gaol_group = (Y_Gaol_group - Y_Gaol_group.mean()) / Y_Gaol_group.std()\n",
    "X_Gaol_group = (X_Gaol_group - X_Gaol_group.mean()) / X_Gaol_group.std()\n",
    "\n",
    "X_Gaol_group = sm.add_constant(X_Gaol_group)\n",
    "\n",
    "OLS_reg4 = sm.OLS(Y_Gaol_group, X_Gaol_group)\n",
    "\n",
    "OLS_result4 = OLS_reg4.fit()\n",
    "print(OLS_result4.summary())"
   ]
  },
  {
   "cell_type": "code",
   "execution_count": null,
   "metadata": {},
   "outputs": [],
   "source": []
  }
 ],
 "metadata": {
  "kernelspec": {
   "display_name": "Python 3",
   "language": "python",
   "name": "python3"
  },
  "language_info": {
   "codemirror_mode": {
    "name": "ipython",
    "version": 3
   },
   "file_extension": ".py",
   "mimetype": "text/x-python",
   "name": "python",
   "nbconvert_exporter": "python",
   "pygments_lexer": "ipython3",
   "version": "3.7.9"
  }
 },
 "nbformat": 4,
 "nbformat_minor": 4
}
